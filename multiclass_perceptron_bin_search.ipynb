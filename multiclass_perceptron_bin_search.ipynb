{
  "nbformat": 4,
  "nbformat_minor": 0,
  "metadata": {
    "colab": {
      "provenance": [],
      "authorship_tag": "ABX9TyOrxltQBoSye0GBCjE0xFyT",
      "include_colab_link": true
    },
    "kernelspec": {
      "name": "python3",
      "display_name": "Python 3"
    },
    "language_info": {
      "name": "python"
    }
  },
  "cells": [
    {
      "cell_type": "markdown",
      "metadata": {
        "id": "view-in-github",
        "colab_type": "text"
      },
      "source": [
        "<a href=\"https://colab.research.google.com/github/fjt067316/Multi-Class-Perceptron-Binary-Search/blob/main/multiclass_perceptron_bin_search.ipynb\" target=\"_parent\"><img src=\"https://colab.research.google.com/assets/colab-badge.svg\" alt=\"Open In Colab\"/></a>"
      ]
    },
    {
      "cell_type": "code",
      "source": [
        "!pip install torch"
      ],
      "metadata": {
        "colab": {
          "base_uri": "https://localhost:8080/"
        },
        "id": "4PyTMqX7ZyH6",
        "outputId": "0040511a-3e15-4f43-d18b-9b5fb6154b28"
      },
      "execution_count": 2,
      "outputs": [
        {
          "output_type": "stream",
          "name": "stdout",
          "text": [
            "Requirement already satisfied: torch in /usr/local/lib/python3.10/dist-packages (2.1.0+cu121)\n",
            "Requirement already satisfied: filelock in /usr/local/lib/python3.10/dist-packages (from torch) (3.13.1)\n",
            "Requirement already satisfied: typing-extensions in /usr/local/lib/python3.10/dist-packages (from torch) (4.5.0)\n",
            "Requirement already satisfied: sympy in /usr/local/lib/python3.10/dist-packages (from torch) (1.12)\n",
            "Requirement already satisfied: networkx in /usr/local/lib/python3.10/dist-packages (from torch) (3.2.1)\n",
            "Requirement already satisfied: jinja2 in /usr/local/lib/python3.10/dist-packages (from torch) (3.1.3)\n",
            "Requirement already satisfied: fsspec in /usr/local/lib/python3.10/dist-packages (from torch) (2023.6.0)\n",
            "Requirement already satisfied: triton==2.1.0 in /usr/local/lib/python3.10/dist-packages (from torch) (2.1.0)\n",
            "Requirement already satisfied: MarkupSafe>=2.0 in /usr/local/lib/python3.10/dist-packages (from jinja2->torch) (2.1.4)\n",
            "Requirement already satisfied: mpmath>=0.19 in /usr/local/lib/python3.10/dist-packages (from sympy->torch) (1.3.0)\n"
          ]
        }
      ]
    },
    {
      "cell_type": "code",
      "execution_count": 4,
      "metadata": {
        "id": "ZqTUPIseVtJb"
      },
      "outputs": [],
      "source": [
        "import csv\n",
        "import torch\n",
        "from itertools import islice\n",
        "\n",
        "csv_file_path = '/content/sample_data/mnist_train_small.csv'\n",
        "\n",
        "train_labels = []\n",
        "train_data = []\n",
        "\n",
        "with open(csv_file_path, 'r') as file:\n",
        "    # Create a CSV DictReader object\n",
        "    csv_reader = csv.reader(file)\n",
        "\n",
        "    # Iterate over the rows in the CSV file\n",
        "    for row in islice(csv_reader, 1, None):\n",
        "      if len(row) == 785:\n",
        "        train_labels.append(int(row[0]))\n",
        "        normalized_data = [float(value) / 255.0 for value in row[1:]] # normalize values\n",
        "        train_data.append(normalized_data + [1]) # add 1 for bias\n",
        "\n",
        "weights_bias = torch.zeros((10, 785)) # last entry is bias\n",
        "train_data = torch.tensor(train_data)"
      ]
    },
    {
      "cell_type": "code",
      "source": [
        "# Binary Search perceptron\n",
        "epoch = 100\n",
        "correct = 0\n",
        "epoch_samples_binary = []\n",
        "\n",
        "for i, data in enumerate(train_data):\n",
        "  output = torch.matmul(weights_bias, data)\n",
        "\n",
        "  if(i % 100 == 0):\n",
        "    print(f\"% corrct: { correct / epoch}\")\n",
        "    correct = 0\n",
        "    epoch_samples_binary.append(correct / epoch)\n",
        "\n",
        "  err: bool = False\n",
        "\n",
        "  if output[0] < 0 and train_labels[i] in {9,8,0,6,7}: # first perceptron for binary procedure\n",
        "    # incorrect classification\n",
        "    correct_sign = 1\n",
        "    weights_bias[0] = weights_bias[0] + data*correct_sign\n",
        "    err = True\n",
        "  elif output[0] >= 0 and train_labels[i] in {5,4,3,2,1}:\n",
        "    # incorrect classification\n",
        "    correct_sign = -1\n",
        "    weights_bias[0] = weights_bias[0] + data*correct_sign\n",
        "    err = True\n",
        "  if output[1] < 0 and train_labels[i] in {9,8,0}:\n",
        "    # incorrect classification\n",
        "    correct_sign = 1\n",
        "    weights_bias[1] = weights_bias[1] + data*correct_sign\n",
        "    err = True\n",
        "  elif output[1] >= 0 and train_labels[i] in {6, 7}:\n",
        "    correct_sign = -1\n",
        "    weights_bias[1] = weights_bias[1] + data*correct_sign\n",
        "    err = True\n",
        "  if output[2] < 0 and train_labels[i] in {9, 8}:\n",
        "    # incorrect clasification\n",
        "    correct_sign = 1\n",
        "    weights_bias[2] = weights_bias[2] + data*correct_sign\n",
        "    err = True\n",
        "  elif output[2] >= 0 and train_labels[i] in {0}:\n",
        "    correct_sign = -1\n",
        "    weights_bias[2] = weights_bias[2] + data*correct_sign\n",
        "    err = True\n",
        "  if output[3] < 0 and train_labels[i] in {9}:\n",
        "    # incorrect clasification\n",
        "    correct_sign = 1\n",
        "    weights_bias[3] = weights_bias[3] + data*correct_sign\n",
        "    err = True\n",
        "  elif output[3] >= 0 and train_labels[i] in {8}:\n",
        "    correct_sign = -1\n",
        "    weights_bias[3] = weights_bias[3] + data*correct_sign\n",
        "    err = True\n",
        "  if output[4] < 0 and train_labels[i] in {6}:\n",
        "    # incorrect classification\n",
        "    correct_sign = 1\n",
        "    weights_bias[4] = weights_bias[4] + data*correct_sign\n",
        "    err = True\n",
        "  elif output[4] >= 0 and train_labels[i] in {7}:\n",
        "    correct_sign = -1\n",
        "    weights_bias[4] = weights_bias[4] + data*correct_sign\n",
        "    err = True\n",
        "\n",
        "  if output[5] < 0 and train_labels[i] in {5,4}:\n",
        "    correct_sign = 1\n",
        "    weights_bias[5] = weights_bias[5] + data*correct_sign\n",
        "    err = True\n",
        "  elif output[5] >= 0 and train_labels[i] in {3,2,1}:\n",
        "    correct_sign = -1\n",
        "    weights_bias[5] = weights_bias[5] + data*correct_sign\n",
        "    err = True\n",
        "  if output[6] < 0 and train_labels[i] in {6}:\n",
        "    correct_sign = 1\n",
        "    weights_bias[6] = weights_bias[6] + data*correct_sign\n",
        "    err = True\n",
        "  elif output[6] >= 0 and train_labels[i] in {2,1}:\n",
        "    correct_sign = -1\n",
        "    weights_bias[6] = weights_bias[6] + data*correct_sign\n",
        "    err = True\n",
        "  if output[7] < 0 and train_labels[i] in {2}:\n",
        "    correct_sign = 1\n",
        "    weights_bias[7] = weights_bias[7] + data*correct_sign\n",
        "    err = True\n",
        "  elif output[7] >= 0 and train_labels[i] in {1}:\n",
        "    correct_sign = -1\n",
        "    weights_bias[7] = weights_bias[7] + data*correct_sign\n",
        "    err = True\n",
        "  if output[8] < 0 and train_labels[i] in {5}:\n",
        "    correct_sign = 1\n",
        "    weights_bias[8] = weights_bias[8] + data*correct_sign\n",
        "    err = True\n",
        "  elif output[8] >= 0 and train_labels[i] in {4}:\n",
        "    correct_sign = -1\n",
        "    weights_bias[8] = weights_bias[8] + data*correct_sign\n",
        "    err = True\n",
        "\n",
        "  if not err:\n",
        "    correct += 1\n",
        ""
      ],
      "metadata": {
        "id": "glhlb17lYhTw"
      },
      "execution_count": null,
      "outputs": []
    },
    {
      "cell_type": "code",
      "source": [
        "# one vs all perceptron\n",
        "# one perceptron per class, highest signal wins\n",
        "# no weird class groups just k0 => digit 0\n",
        "epoch = 100\n",
        "correct = 0\n",
        "epoch_samples_k_class = []\n",
        "weights_bias = torch.zeros((10, 785)) # last entry is bias\n",
        "\n",
        "for i, data in enumerate(train_data):\n",
        "  output = torch.matmul(weights_bias, data)\n",
        "\n",
        "  if(i % 100 == 0):\n",
        "    print(f\"% corrct: { correct / epoch}\")\n",
        "    correct = 0\n",
        "    epoch_samples_k_class.append(correct / epoch)\n",
        "\n",
        "  err: bool = False\n",
        "\n",
        "  for idx, out in enumerate(output):\n",
        "\n",
        "    if out >= 0 and idx != train_labels[i]:\n",
        "      weights_bias[idx] += -1*data\n",
        "      err = True\n",
        "    elif out < 0 and idx == train_labels[i]:\n",
        "      weights_bias[idx] += data\n",
        "      err = True\n",
        "  if not err:\n",
        "    correct += 1\n"
      ],
      "metadata": {
        "id": "JD-979ommNTp"
      },
      "execution_count": null,
      "outputs": []
    },
    {
      "cell_type": "code",
      "source": [
        "# One vs One\n",
        "# Most votes win\n",
        "#\n",
        "epoch = 100\n",
        "correct = 0\n",
        "epoch_samples_k_class = []\n",
        "n_classes = 10\n",
        "n_weights = int((n_classes*(n_classes-1))/2)\n",
        "weights_bias = torch.zeros((n_weights, 785)) # last entry is bias\n",
        "\n",
        "for i, data in enumerate(train_data):\n",
        "  output = torch.matmul(weights_bias, data)\n",
        "\n",
        "  if(i % 100 == 0):\n",
        "    print(f\"% corrct: { correct / epoch}\")\n",
        "    correct = 0\n",
        "    epoch_samples_k_class.append(correct / epoch)\n",
        "\n",
        "  err: bool = False\n",
        "\n",
        "  for idx, out in enumerate(output):\n",
        "    # first 9 vote for 9\n",
        "    # next 8 vote for 8 etc\n",
        "\n",
        "    if out >= 0 and idx != train_labels[i]:\n",
        "      weights_bias[idx] += -1*data\n",
        "      err = True\n",
        "    elif out < 0 and idx == train_labels[i]:\n",
        "      weights_bias[idx] += data\n",
        "      err = True\n",
        "    if not err:\n",
        "      correct += 1"
      ],
      "metadata": {
        "id": "feo7QJXarWvn"
      },
      "execution_count": null,
      "outputs": []
    }
  ]
}